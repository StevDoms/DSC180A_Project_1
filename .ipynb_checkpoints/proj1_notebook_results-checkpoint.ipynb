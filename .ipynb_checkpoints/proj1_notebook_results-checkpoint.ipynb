{
 "cells": [
  {
   "cell_type": "code",
   "execution_count": 5,
   "id": "844c3035-0de7-47fe-a3f8-3bdb7222b93f",
   "metadata": {},
   "outputs": [
    {
     "name": "stdout",
     "output_type": "stream",
     "text": [
      "-------Running run.py project-------\n",
      "Merging raw datasets...\n",
      "GIS Data loaded with 223 rows and 27 columns.\n",
      "Station Summary Data loaded with 216 rows and 7 columns.\n",
      "Windspeed Data loaded with 38664 rows and 4 columns.\n",
      "Data processing completed. Merged weather data saved.\n",
      "Preview of merged weather data:\n",
      "Calculating PSPS probabilities...\n",
      "PSPS probabilities calculated for 223 stations.\n",
      "Preview of PSPS probabilities:\n",
      "   objectid weatherstationcode  ... above_threshold_count  PSPS_probability\n",
      "0         1                CBD  ...                   2.0          0.011696\n",
      "1         2                CCR  ...                  25.0          0.139665\n",
      "2         3                CES  ...                  10.0          0.057803\n",
      "3       208                ROV  ...                   4.0          0.081633\n",
      "4         5                CHO  ...                   0.0          0.000000\n",
      "\n",
      "[5 rows x 30 columns]\n",
      "Filtering top PSPS stations...\n",
      "Filtered 1 high-risk PSPS stations.\n",
      "Preview of top PSPS stations:\n",
      "    objectid weatherstationcode  ... above_threshold_count  PSPS_probability\n",
      "12        13                SIL  ...                 151.0          0.853107\n",
      "\n",
      "[1 rows x 30 columns]\n",
      "Merging VRI and conductor data...\n",
      "Merged VRI and conductor data saved. Total rows: 255893.\n",
      "Preview of merged VRI-conductor data:\n",
      "         name  ...  shape_srid_right\n",
      "0  Alpine_VRI  ...              2230\n",
      "0  Alpine_VRI  ...              2230\n",
      "0  Alpine_VRI  ...              2230\n",
      "0  Alpine_VRI  ...              2230\n",
      "0  Alpine_VRI  ...              2230\n",
      "\n",
      "[5 rows x 132 columns]\n",
      "Highest Num of Stations Per Span:  5\n",
      "Example Span:  {29197D1C-C667-4482-99E6-54F7B0E0A9BE}\n",
      "Num of Spans with max Stations:  777\n",
      "                                          span  probability\n",
      "0       {B4D607A5-DA7F-4B3D-965C-C7FCC6516E0C}     0.722222\n",
      "1       {5C464A2D-2EC8-419F-95F9-819C0BB8DC41}     0.722222\n",
      "2       {6B38C0C1-7D47-4F57-9864-6F2ED46F738C}     0.722222\n",
      "3       {212431FD-6B97-432B-9182-8D7FFE7F0E8E}     0.722222\n",
      "4       {B7C501A0-08CA-4007-B865-B9495595BAC9}     0.722222\n",
      "...                                        ...          ...\n",
      "674587  {EDD9FEEE-9B99-4B8A-A186-6DA93093760F}     0.000000\n",
      "674588  {6BF5DE43-874B-4141-A98E-7F6446A8D92B}     0.000000\n",
      "674589  {532119EB-5B19-4435-AF69-8490B845524F}     0.000000\n",
      "674590  {B690E3A6-41CA-40CC-91CB-64D4EFD5B3C6}     0.000000\n",
      "674591  {FB59A7F7-D618-4419-A7A8-A7310C34527B}     0.000000\n",
      "\n",
      "[674592 rows x 2 columns]\n",
      "                 span_count  segment_psps_value  sum_of_customers\n",
      "parent_feederid                                                  \n",
      "222                    3024            0.196052            1438.0\n",
      "                       span_count  circuit_psps_value  sum_of_customers\n",
      "upstreamardfacilityid                                                  \n",
      "100-1122R                      21                 0.0              26.0\n",
      "Span analysis completed.\n",
      "Parent feeder_id exploration:  222\n",
      "                 annual_cust_total\n",
      "parent_feederid                   \n",
      "222                    1274.832923\n",
      "Annual customers affected: 1274.832922846949\n",
      "Expected Customers Affected in the next 10 years: 12748.0\n",
      "Feeder analysis completed.\n"
     ]
    }
   ],
   "source": [
    "!python run.py all"
   ]
  }
 ],
 "metadata": {
  "kernelspec": {
   "display_name": "Python 3 (ipykernel)",
   "language": "python",
   "name": "python3"
  },
  "language_info": {
   "codemirror_mode": {
    "name": "ipython",
    "version": 3
   },
   "file_extension": ".py",
   "mimetype": "text/x-python",
   "name": "python",
   "nbconvert_exporter": "python",
   "pygments_lexer": "ipython3",
   "version": "3.11.9"
  }
 },
 "nbformat": 4,
 "nbformat_minor": 5
}
